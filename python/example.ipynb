{
 "cells": [
  {
   "cell_type": "markdown",
   "id": "assumed-school",
   "metadata": {},
   "source": [
    "# Example: differential network analysis"
   ]
  },
  {
   "cell_type": "markdown",
   "id": "activated-atlantic",
   "metadata": {},
   "source": [
    "## Preamble\n",
    "Complementary sketching implemented in compsket.py"
   ]
  },
  {
   "cell_type": "code",
   "execution_count": 27,
   "id": "confused-jewel",
   "metadata": {},
   "outputs": [],
   "source": [
    "import numpy as np\n",
    "import scipy as sp\n",
    "import pandas as pd\n",
    "from sklearn import linear_model\n",
    "import sklearn\n",
    "import time\n",
    "from compsket import *"
   ]
  },
  {
   "cell_type": "markdown",
   "id": "bright-emergency",
   "metadata": {},
   "source": [
    "## Generate data matrix X (can be skipped if csv file is already available)"
   ]
  },
  {
   "cell_type": "code",
   "execution_count": 3,
   "id": "convinced-candy",
   "metadata": {},
   "outputs": [],
   "source": [
    "from os.path import exists\n",
    "if not exists('CD4_TREG_in_thymus.csv.gz'):\n",
    "    import scanpy as sc\n",
    "    adata = sc.read('NKT_thymus_panfetal.h5ad')\n",
    "    adata = adata[adata.obs['anno_lvl_2_final_clean'].isin(['CD4+T','TREG'])]\n",
    "    adata = adata[adata.obs['Sort_id'].isin(['CD45N', 'CD45P', 'TOT'])]\n",
    "    \n",
    "    X = adata.X.todense()\n",
    "    gene_var = np.array(np.var(X, axis=0, ddof=1)).flatten()\n",
    "    filter = gene_var >= 1\n",
    "    X = X[:, filter]\n",
    "    \n",
    "    gene_names = np.array(adata.var_names[filter])\n",
    "    cell_id = np.array(adata.obs_names)\n",
    "    cell_types = np.array(adata.obs['anno_lvl_2_final_clean'])\n",
    "    CD4_filter = cell_types == 'CD4+T'\n",
    "    \n",
    "    df = pd.DataFrame(X, index=cell_id, columns=gene_names)\n",
    "    df = pd.concat([adata.obs['anno_lvl_2_final_clean'], df], axis=1)\n",
    "    df.to_csv('CD4_TREG_in_thymus.csv', index=True, header=True, sep=',')"
   ]
  },
  {
   "cell_type": "markdown",
   "id": "beneficial-ireland",
   "metadata": {},
   "source": [
    "## Read data matrix from file directly"
   ]
  },
  {
   "cell_type": "code",
   "execution_count": 4,
   "id": "nuclear-alcohol",
   "metadata": {},
   "outputs": [
    {
     "data": {
      "text/plain": [
       "(7816, 4123)"
      ]
     },
     "execution_count": 4,
     "metadata": {},
     "output_type": "execute_result"
    }
   ],
   "source": [
    "dat = pd.read_csv('CD4_TREG_in_thymus.csv.gz', index_col=0)\n",
    "X = np.array(dat.iloc[:,1:])\n",
    "gene_names = np.array(dat.columns[1:])\n",
    "CD4_filter = dat['anno_lvl_2_final_clean'] == 'CD4+T'\n",
    "X.shape"
   ]
  },
  {
   "cell_type": "markdown",
   "id": "advanced-brunei",
   "metadata": {},
   "source": [
    "## Perform differential network analysis"
   ]
  },
  {
   "cell_type": "code",
   "execution_count": 5,
   "id": "experienced-whale",
   "metadata": {},
   "outputs": [
    {
     "data": {
      "text/plain": [
       "'X1 shape = (4852, 4123), X2 shape = (2964, 4123)'"
      ]
     },
     "execution_count": 5,
     "metadata": {},
     "output_type": "execute_result"
    }
   ],
   "source": [
    "X1 = np.array(X[CD4_filter, :])\n",
    "X2 = np.array(X[~CD4_filter, :])\n",
    "\"X1 shape = {}, X2 shape = {}\".format(X1.shape, X2.shape)"
   ]
  },
  {
   "cell_type": "code",
   "execution_count": 29,
   "id": "searching-facial",
   "metadata": {},
   "outputs": [
    {
     "name": "stdout",
     "output_type": "stream",
     "text": [
      "Computing complementary sketches...\n",
      "Computing 1/1 node...\n",
      "Finished: 1 significant node found.\n",
      "18.644014835357666 seconds elapsed.\n"
     ]
    }
   ],
   "source": [
    "t = time.time()\n",
    "# for a quicker test run, may set nodes = [0, 133, 180] as a parameter of differentialNetworkAnalysis()\n",
    "# change nodes = None to run for all nodes\n",
    "result = differentialNetworkAnalysis(X1, X2, nodes = [2821], num_partners=8, trace=True)\n",
    "print('{} seconds elapsed.'.format(time.time() - t))"
   ]
  },
  {
   "cell_type": "markdown",
   "id": "russian-lawyer",
   "metadata": {},
   "source": [
    "## tidy up results using gene names instead of indices"
   ]
  },
  {
   "cell_type": "code",
   "execution_count": 30,
   "id": "another-grade",
   "metadata": {},
   "outputs": [],
   "source": [
    "result_identified = result.loc[result['test_result'] == 1, :]\n",
    "result_identified.index = np.array(gene_names)[result_identified.index]\n",
    "result_identified.insert(len(result_identified.columns), 'interacting_genes', [gene_names[v] for v in result_identified['interacting_partners']])"
   ]
  },
  {
   "cell_type": "code",
   "execution_count": 31,
   "id": "sized-meaning",
   "metadata": {},
   "outputs": [
    {
     "data": {
      "text/html": [
       "<div>\n",
       "<style scoped>\n",
       "    .dataframe tbody tr th:only-of-type {\n",
       "        vertical-align: middle;\n",
       "    }\n",
       "\n",
       "    .dataframe tbody tr th {\n",
       "        vertical-align: top;\n",
       "    }\n",
       "\n",
       "    .dataframe thead th {\n",
       "        text-align: right;\n",
       "    }\n",
       "</style>\n",
       "<table border=\"1\" class=\"dataframe\">\n",
       "  <thead>\n",
       "    <tr style=\"text-align: right;\">\n",
       "      <th></th>\n",
       "      <th>test_stat</th>\n",
       "      <th>test_result</th>\n",
       "      <th>interacting_partners</th>\n",
       "      <th>interacting_genes</th>\n",
       "    </tr>\n",
       "  </thead>\n",
       "  <tbody>\n",
       "    <tr>\n",
       "      <th>CTLA4</th>\n",
       "      <td>45.370989</td>\n",
       "      <td>1</td>\n",
       "      <td>[534, 2768, 1558, 3607, 2909, 3099, 1725, 1499]</td>\n",
       "      <td>[RGS1, GBP2, RPS10, ZFP36L1, TAGAP, STAT3, RPS...</td>\n",
       "    </tr>\n",
       "  </tbody>\n",
       "</table>\n",
       "</div>"
      ],
      "text/plain": [
       "       test_stat test_result                             interacting_partners  \\\n",
       "CTLA4  45.370989           1  [534, 2768, 1558, 3607, 2909, 3099, 1725, 1499]   \n",
       "\n",
       "                                       interacting_genes  \n",
       "CTLA4  [RGS1, GBP2, RPS10, ZFP36L1, TAGAP, STAT3, RPS...  "
      ]
     },
     "execution_count": 31,
     "metadata": {},
     "output_type": "execute_result"
    }
   ],
   "source": [
    "result_identified"
   ]
  },
  {
   "cell_type": "code",
   "execution_count": 18,
   "id": "58373df2-948a-452b-9a5a-5773391f6580",
   "metadata": {},
   "outputs": [],
   "source": [
    "def DGE(x1, x2, alpha):\n",
    "    pvals = [sp.stats.mannwhitneyu(x1[:,j], x2[:,j])[1] for j in range(x1.shape[1])]\n",
    "    return np.where(np.array(pvals) < alpha, 1,0)"
   ]
  },
  {
   "cell_type": "code",
   "execution_count": 26,
   "id": "58368c0a-c8e1-426b-895a-9b54916d7b0a",
   "metadata": {},
   "outputs": [
    {
     "data": {
      "text/html": [
       "<div>\n",
       "<style scoped>\n",
       "    .dataframe tbody tr th:only-of-type {\n",
       "        vertical-align: middle;\n",
       "    }\n",
       "\n",
       "    .dataframe tbody tr th {\n",
       "        vertical-align: top;\n",
       "    }\n",
       "\n",
       "    .dataframe thead th {\n",
       "        text-align: right;\n",
       "    }\n",
       "</style>\n",
       "<table border=\"1\" class=\"dataframe\">\n",
       "  <thead>\n",
       "    <tr style=\"text-align: right;\">\n",
       "      <th></th>\n",
       "      <th>test_stat</th>\n",
       "      <th>test_result</th>\n",
       "      <th>interacting_genes</th>\n",
       "      <th>DGE</th>\n",
       "    </tr>\n",
       "  </thead>\n",
       "  <tbody>\n",
       "    <tr>\n",
       "      <th>IKZF2</th>\n",
       "      <td>72.240301</td>\n",
       "      <td>1</td>\n",
       "      <td>[MT-ND4L, HLA-B, MT-ATP8, ETS1, FYB1, JUNB, RN...</td>\n",
       "      <td>[0, 1, 0, 1, 1, 1, 0, 1]</td>\n",
       "    </tr>\n",
       "    <tr>\n",
       "      <th>FOXP3</th>\n",
       "      <td>297.40523</td>\n",
       "      <td>1</td>\n",
       "      <td>[MT-ND4L, MT-ATP8, S100A4, CD96, ISG20, BIRC2,...</td>\n",
       "      <td>[0, 0, 1, 1, 1, 0, 1, 1]</td>\n",
       "    </tr>\n",
       "  </tbody>\n",
       "</table>\n",
       "</div>"
      ],
      "text/plain": [
       "       test_stat test_result  \\\n",
       "IKZF2  72.240301           1   \n",
       "FOXP3  297.40523           1   \n",
       "\n",
       "                                       interacting_genes  \\\n",
       "IKZF2  [MT-ND4L, HLA-B, MT-ATP8, ETS1, FYB1, JUNB, RN...   \n",
       "FOXP3  [MT-ND4L, MT-ATP8, S100A4, CD96, ISG20, BIRC2,...   \n",
       "\n",
       "                            DGE  \n",
       "IKZF2  [0, 1, 0, 1, 1, 1, 0, 1]  \n",
       "FOXP3  [0, 0, 1, 1, 1, 0, 1, 1]  "
      ]
     },
     "execution_count": 26,
     "metadata": {},
     "output_type": "execute_result"
    }
   ],
   "source": [
    "result_identified.insert(len(result_identified.columns),'DGE', [DGE(X1[:,v], X2[:,v], 0.05 / X1.shape[1]) for v in result_identified['interacting_partners']])\n",
    "result_identified\n",
    "result_identified.pop('interacting_partners')\n",
    "result_identified"
   ]
  }
 ],
 "metadata": {
  "kernelspec": {
   "display_name": "Python 3 (ipykernel)",
   "language": "python",
   "name": "python3"
  },
  "language_info": {
   "codemirror_mode": {
    "name": "ipython",
    "version": 3
   },
   "file_extension": ".py",
   "mimetype": "text/x-python",
   "name": "python",
   "nbconvert_exporter": "python",
   "pygments_lexer": "ipython3",
   "version": "3.8.1"
  }
 },
 "nbformat": 4,
 "nbformat_minor": 5
}
